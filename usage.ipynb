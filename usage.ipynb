{
 "cells": [
  {
   "cell_type": "code",
   "execution_count": null,
   "metadata": {},
   "outputs": [
    {
     "ename": "",
     "evalue": "",
     "output_type": "error",
     "traceback": [
      "\u001b[1;31mRunning cells with 'Python 3.8.13' requires the ipykernel package.\n",
      "\u001b[1;31mRun the following command to install 'ipykernel' into the Python environment. \n",
      "\u001b[1;31mCommand: '/usr/bin/pypy3.8 -m pip install ipykernel -U --user --force-reinstall'"
     ]
    }
   ],
   "source": [
    "from CVRPSolver import solve, SMALL_CONFIGS, LARGE_CONFIGS\n",
    "from random import randint, seed\n",
    "from math import dist\n",
    "import matplotlib.pyplot as plt\n",
    "\n",
    "SEED = 0\n",
    "seed(SEED)"
   ]
  },
  {
   "cell_type": "code",
   "execution_count": null,
   "metadata": {},
   "outputs": [
    {
     "ename": "",
     "evalue": "",
     "output_type": "error",
     "traceback": [
      "\u001b[1;31mRunning cells with 'Python 3.8.13' requires the ipykernel package.\n",
      "\u001b[1;31mRun the following command to install 'ipykernel' into the Python environment. \n",
      "\u001b[1;31mCommand: '/usr/bin/pypy3.8 -m pip install ipykernel -U --user --force-reinstall'"
     ]
    }
   ],
   "source": [
    "def plot(routes, locations):\n",
    "    def plot_route(route):\n",
    "        x = [locations[loc][0] for loc in route]\n",
    "        y = [locations[loc][1] for loc in route]\n",
    "        plt.plot(x, y, marker='o', linestyle='-', color='b')\n",
    "\n",
    "    for route in routes:\n",
    "        plot_route(route)\n",
    "\n",
    "    plt.xticks([])\n",
    "    plt.yticks([])\n",
    "    depot = locations[0]\n",
    "    plt.scatter(*depot, color='r', s=100, marker='o', zorder=10)\n",
    "    plt.show()\n",
    "\n",
    "\n",
    "def scatter(locations):\n",
    "    x = [loc[0] for loc in locations]\n",
    "    y = [loc[1] for loc in locations]\n",
    "    plt.scatter(x, y, marker='o', linestyle='-', color='b')\n",
    "    plt.xticks([])\n",
    "    plt.yticks([])\n",
    "    depot = locations[0]\n",
    "    plt.scatter(*depot, color='r', s=100, marker='o', zorder=10)\n",
    "    plt.show()"
   ]
  },
  {
   "cell_type": "markdown",
   "metadata": {},
   "source": [
    "# Generation of a small CVRP"
   ]
  },
  {
   "cell_type": "code",
   "execution_count": null,
   "metadata": {},
   "outputs": [
    {
     "ename": "",
     "evalue": "",
     "output_type": "error",
     "traceback": [
      "\u001b[1;31mRunning cells with 'Python 3.8.13' requires the ipykernel package.\n",
      "\u001b[1;31mRun the following command to install 'ipykernel' into the Python environment. \n",
      "\u001b[1;31mCommand: '/usr/bin/pypy3.8 -m pip install ipykernel -U --user --force-reinstall'"
     ]
    }
   ],
   "source": [
    "number_of_locations = 35\n",
    "number_of_vehicles = 15\n",
    "vehicle_capacity = 100\n",
    "\n",
    "locations = [(randint(0, 100), randint(0, 100)) for _ in range(number_of_locations)]\n",
    "distance_matrix = [\n",
    "    [dist(locations[i], locations[j]) for i in range(number_of_locations)]\n",
    "    for j in range(number_of_locations)\n",
    "]\n",
    "\n",
    "demands = [\n",
    "    randint(0, 3 * vehicle_capacity * number_of_vehicles // (2 * number_of_locations))\n",
    "    for _ in range(number_of_locations)\n",
    "]\n",
    "scatter(locations)"
   ]
  },
  {
   "cell_type": "markdown",
   "metadata": {},
   "source": [
    "# Finding a solution using the CVRP solver\n",
    "- The solver does not garantee an optimal solution, but the output of the solver is usually close to the optimal solution (within ~10% on the instances in `data`)."
   ]
  },
  {
   "cell_type": "code",
   "execution_count": null,
   "metadata": {},
   "outputs": [
    {
     "ename": "",
     "evalue": "",
     "output_type": "error",
     "traceback": [
      "\u001b[1;31mRunning cells with 'Python 3.8.13' requires the ipykernel package.\n",
      "\u001b[1;31mRun the following command to install 'ipykernel' into the Python environment. \n",
      "\u001b[1;31mCommand: '/usr/bin/pypy3.8 -m pip install ipykernel -U --user --force-reinstall'"
     ]
    }
   ],
   "source": [
    "sol = solve(distance_matrix, locations, demands, number_of_vehicles, vehicle_capacity, {\"TIME_LIMIT\": 30, \"SEED\": SEED, \"TRIES\": 1})\n",
    "plot([[0] + route + [0] for route in sol], locations)"
   ]
  },
  {
   "cell_type": "markdown",
   "metadata": {},
   "source": [
    "# Performent configurations\n",
    "I have compiled a list of `performent configurations` for small (less then around 100 locations) and larger problems (around 100 - 1000 locations) using [amltk](https://automl.github.io/amltk/latest/) and instances in `data`. You should try which configuration/s fits your problem the best. Configurations at the beginning of the lists should perform better."
   ]
  },
  {
   "cell_type": "code",
   "execution_count": null,
   "metadata": {},
   "outputs": [
    {
     "ename": "",
     "evalue": "",
     "output_type": "error",
     "traceback": [
      "\u001b[1;31mRunning cells with 'Python 3.8.13' requires the ipykernel package.\n",
      "\u001b[1;31mRun the following command to install 'ipykernel' into the Python environment. \n",
      "\u001b[1;31mCommand: '/usr/bin/pypy3.8 -m pip install ipykernel -U --user --force-reinstall'"
     ]
    }
   ],
   "source": [
    "SAMPLE_CONFIG_SMALL = SMALL_CONFIGS[0] | {\"TIME_LIMIT\": 30, \"SEED\": SEED, \"TRIES\": 1}\n",
    "sol = solve(distance_matrix, locations, demands, number_of_vehicles, vehicle_capacity, SAMPLE_CONFIG_SMALL)\n",
    "plot([[0] + route + [0] for route in sol], locations)"
   ]
  },
  {
   "cell_type": "code",
   "execution_count": null,
   "metadata": {},
   "outputs": [
    {
     "ename": "",
     "evalue": "",
     "output_type": "error",
     "traceback": [
      "\u001b[1;31mRunning cells with 'Python 3.8.13' requires the ipykernel package.\n",
      "\u001b[1;31mRun the following command to install 'ipykernel' into the Python environment. \n",
      "\u001b[1;31mCommand: '/usr/bin/pypy3.8 -m pip install ipykernel -U --user --force-reinstall'"
     ]
    }
   ],
   "source": [
    "SAMPLE_CONFIG_LARGE = LARGE_CONFIGS[0] | {\"TIME_LIMIT\": 30, \"SEED\": SEED, \"TRIES\": 1}\n",
    "sol = solve(distance_matrix, locations, demands, number_of_vehicles, vehicle_capacity, SAMPLE_CONFIG_LARGE)\n",
    "plot([[0] + route + [0] for route in sol], locations)"
   ]
  },
  {
   "cell_type": "markdown",
   "metadata": {},
   "source": [
    "# Parallel computing\n",
    "For even better solutions, you should try more configurations with different seeds with time limit around 3-10 minutes (using pypy, probably a bit longer in python)."
   ]
  },
  {
   "cell_type": "code",
   "execution_count": null,
   "metadata": {},
   "outputs": [
    {
     "ename": "",
     "evalue": "",
     "output_type": "error",
     "traceback": [
      "\u001b[1;31mRunning cells with 'Python 3.8.13' requires the ipykernel package.\n",
      "\u001b[1;31mRun the following command to install 'ipykernel' into the Python environment. \n",
      "\u001b[1;31mCommand: '/usr/bin/pypy3.8 -m pip install ipykernel -U --user --force-reinstall'"
     ]
    }
   ],
   "source": [
    "import asyncio\n",
    "from concurrent.futures import ProcessPoolExecutor\n",
    "import nest_asyncio\n",
    "nest_asyncio.apply()  # neccessary for running asyncio in jupyter notebook"
   ]
  },
  {
   "cell_type": "code",
   "execution_count": null,
   "metadata": {},
   "outputs": [
    {
     "ename": "",
     "evalue": "",
     "output_type": "error",
     "traceback": [
      "\u001b[1;31mRunning cells with 'Python 3.8.13' requires the ipykernel package.\n",
      "\u001b[1;31mRun the following command to install 'ipykernel' into the Python environment. \n",
      "\u001b[1;31mCommand: '/usr/bin/pypy3.8 -m pip install ipykernel -U --user --force-reinstall'"
     ]
    }
   ],
   "source": [
    "N_WORKERS = 2\n",
    "SAMPLE_CONFIGS = [\n",
    "    config | {\"TIME_LIMIT\": 3*60, \"SEED\": seed}\n",
    "    for config in SMALL_CONFIGS[:3]\n",
    "    for seed in (0, 42)\n",
    "]  # You should try even more configurations\n",
    "\n",
    "\n",
    "def help(config):\n",
    "    return solve(distance_matrix, locations, demands, number_of_vehicles, vehicle_capacity, config)\n",
    "\n",
    "\n",
    "async def main(loop, n_workers):\n",
    "    executor = ProcessPoolExecutor(max_workers=n_workers)\n",
    "    return await asyncio.gather(*(loop.run_in_executor(executor, help, config) for config in SAMPLE_CONFIGS))\n",
    "\n",
    "\n",
    "loop = asyncio.get_event_loop()\n",
    "sol = min(loop.run_until_complete(main(loop, N_WORKERS)))\n",
    "plot([[0] + route + [0] for route in sol], locations)\n"
   ]
  }
 ],
 "metadata": {
  "kernelspec": {
   "display_name": "Python 3",
   "language": "python",
   "name": "python3"
  },
  "language_info": {
   "codemirror_mode": {
    "name": "ipython",
    "version": 3
   },
   "file_extension": ".py",
   "mimetype": "text/x-python",
   "name": "python",
   "nbconvert_exporter": "python",
   "pygments_lexer": "ipython3",
   "version": "3.8.13"
  }
 },
 "nbformat": 4,
 "nbformat_minor": 2
}
